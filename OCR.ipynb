{
 "cells": [
  {
   "cell_type": "code",
   "execution_count": 7,
   "metadata": {},
   "outputs": [],
   "source": [
    "import os, shutil\n",
    "original_data_dir = 'C:\\\\Users\\\\bikas\\\\Documents\\\\Datasets\\\\BanglaLekha-Isolated\\\\Images'\n",
    "train_dir = 'C:\\\\Users\\\\bikas\\\\Documents\\\\Datasets\\\\BanglaLekha-Isolated\\\\train'\n",
    "test_dir = 'C:\\\\Users\\\\bikas\\\\Documents\\\\Datasets\\\\BanglaLekha-Isolated\\\\test'"
   ]
  },
  {
   "cell_type": "code",
   "execution_count": null,
   "metadata": {},
   "outputs": [],
   "source": [
    "os.mkdir(test_dir)\n",
    "os.mkdir(train_dir)"
   ]
  },
  {
   "cell_type": "code",
   "execution_count": null,
   "metadata": {},
   "outputs": [],
   "source": [
    "from os import listdir\n",
    "from os.path import isfile, join\n",
    "\n",
    "for i in range(1, 85):\n",
    "    src_path = os.path.join(original_data_dir, str(i))\n",
    "    train_path = os.path.join(train_dir, str(i))\n",
    "    test_path = os.path.join(test_dir, str(i))\n",
    "    os.mkdir(train_path)\n",
    "    os.mkdir(test_path)\n",
    "    \n",
    "    onlyfiles = [f for f in listdir(src_path) if isfile(join(src_path, f))]\n",
    "    for j in range(1600):\n",
    "        src = os.path.join(src_path, onlyfiles[j])\n",
    "        dst = os.path.join(train_path, onlyfiles[j])\n",
    "        shutil.copyfile(src, dst)\n",
    "    \n",
    "    for j in range(1600, len(onlyfiles)):\n",
    "        src = os.path.join(src_path, onlyfiles[j])\n",
    "        dst = os.path.join(test_path, onlyfiles[j])\n",
    "        shutil.copyfile(src, dst)\n"
   ]
  },
  {
   "cell_type": "code",
   "execution_count": 8,
   "metadata": {},
   "outputs": [],
   "source": [
    "from keras import models, layers, losses, optimizers, metrics\n",
    "from keras.preprocessing.image import ImageDataGenerator"
   ]
  },
  {
   "cell_type": "code",
   "execution_count": 9,
   "metadata": {},
   "outputs": [],
   "source": [
    "train_datagen = ImageDataGenerator(rescale=1./255)\n",
    "test_datagen = ImageDataGenerator(rescale=1./255)"
   ]
  },
  {
   "cell_type": "code",
   "execution_count": 10,
   "metadata": {},
   "outputs": [
    {
     "name": "stdout",
     "output_type": "stream",
     "text": [
      "Found 134400 images belonging to 84 classes.\n",
      "Found 31705 images belonging to 84 classes.\n"
     ]
    }
   ],
   "source": [
    "train_generator = train_datagen.flow_from_directory(\n",
    "    train_dir, \n",
    "    target_size=(150, 150), \n",
    "    batch_size=32\n",
    ")\n",
    "\n",
    "test_generator = test_generator.flow_from_directory(\n",
    "    test_dir, \n",
    "    target_size=(150, 150), \n",
    "    batch_size=32\n",
    ")"
   ]
  },
  {
   "cell_type": "code",
   "execution_count": 11,
   "metadata": {},
   "outputs": [
    {
     "name": "stdout",
     "output_type": "stream",
     "text": [
      "(32, 150, 150, 3)\n",
      "(32, 84)\n"
     ]
    }
   ],
   "source": [
    "for data_batch, label_batch in train_generator:\n",
    "    print(data_batch.shape)\n",
    "    print(label_batch.shape)\n",
    "    break"
   ]
  },
  {
   "cell_type": "code",
   "execution_count": 12,
   "metadata": {},
   "outputs": [
    {
     "name": "stdout",
     "output_type": "stream",
     "text": [
      "_________________________________________________________________\n",
      "Layer (type)                 Output Shape              Param #   \n",
      "=================================================================\n",
      "conv2d_1 (Conv2D)            (None, 148, 148, 32)      896       \n",
      "_________________________________________________________________\n",
      "max_pooling2d_1 (MaxPooling2 (None, 74, 74, 32)        0         \n",
      "_________________________________________________________________\n",
      "conv2d_2 (Conv2D)            (None, 72, 72, 64)        18496     \n",
      "_________________________________________________________________\n",
      "max_pooling2d_2 (MaxPooling2 (None, 36, 36, 64)        0         \n",
      "_________________________________________________________________\n",
      "conv2d_3 (Conv2D)            (None, 34, 34, 128)       73856     \n",
      "_________________________________________________________________\n",
      "max_pooling2d_3 (MaxPooling2 (None, 17, 17, 128)       0         \n",
      "_________________________________________________________________\n",
      "conv2d_4 (Conv2D)            (None, 15, 15, 128)       147584    \n",
      "_________________________________________________________________\n",
      "max_pooling2d_4 (MaxPooling2 (None, 7, 7, 128)         0         \n",
      "_________________________________________________________________\n",
      "flatten_1 (Flatten)          (None, 6272)              0         \n",
      "_________________________________________________________________\n",
      "dense_1 (Dense)              (None, 512)               3211776   \n",
      "_________________________________________________________________\n",
      "dense_2 (Dense)              (None, 84)                43092     \n",
      "=================================================================\n",
      "Total params: 3,495,700\n",
      "Trainable params: 3,495,700\n",
      "Non-trainable params: 0\n",
      "_________________________________________________________________\n"
     ]
    }
   ],
   "source": [
    "model = models.Sequential()\n",
    "\n",
    "model.add(layers.Conv2D(32, (3, 3), activation='relu', input_shape=(150, 150, 3)))\n",
    "model.add(layers.MaxPool2D(2, 2))\n",
    "model.add(layers.Conv2D(64, (3, 3), activation='relu'))\n",
    "model.add(layers.MaxPool2D(2, 2))\n",
    "model.add(layers.Conv2D(128, (3, 3), activation='relu'))\n",
    "model.add(layers.MaxPool2D(2, 2))\n",
    "model.add(layers.Conv2D(128, (3, 3), activation='relu'))\n",
    "model.add(layers.MaxPool2D(2, 2))\n",
    "\n",
    "model.add(layers.Flatten())\n",
    "model.add(layers.Dense(512, activation='relu'))\n",
    "model.add(layers.Dense(84, activation='softmax'))\n",
    "\n",
    "model.summary()"
   ]
  },
  {
   "cell_type": "code",
   "execution_count": null,
   "metadata": {},
   "outputs": [],
   "source": [
    "# load model if saved\n",
    "from keras.models import load_model\n",
    "model = load_model('simple_convnet.h5')\n",
    "\n",
    "model.summary()"
   ]
  },
  {
   "cell_type": "code",
   "execution_count": 13,
   "metadata": {},
   "outputs": [],
   "source": [
    "# Compile the model\n",
    "model.compile(\n",
    "    optimizer=optimizers.RMSprop(lr=1e-4), \n",
    "    loss=losses.categorical_crossentropy, \n",
    "    metrics=[metrics.categorical_accuracy]\n",
    ")"
   ]
  },
  {
   "cell_type": "code",
   "execution_count": null,
   "metadata": {},
   "outputs": [],
   "source": [
    "history = model.fit_generator(train_generator, \n",
    "                              steps_per_epoch=4200, \n",
    "                              epochs=30, \n",
    "                              validation_data=test_generator, \n",
    "                              validation_steps=900)"
   ]
  },
  {
   "cell_type": "code",
   "execution_count": 15,
   "metadata": {},
   "outputs": [],
   "source": [
    "model.save('simple_convnet.h5')"
   ]
  },
  {
   "cell_type": "markdown",
   "metadata": {},
   "source": [
    "# Observation"
   ]
  },
  {
   "cell_type": "markdown",
   "metadata": {},
   "source": [
    "The model had reached accuracy of about 85% and start overfitting just after 5 epoch. Let's try to have some solution to this overfittng problem. I think the image augmentation technique should not be used for character recognition task. So let's start with dropout"
   ]
  },
  {
   "cell_type": "markdown",
   "metadata": {},
   "source": [
    "# Handling overfitting: Adding dropout"
   ]
  },
  {
   "cell_type": "code",
   "execution_count": 16,
   "metadata": {},
   "outputs": [
    {
     "name": "stdout",
     "output_type": "stream",
     "text": [
      "_________________________________________________________________\n",
      "Layer (type)                 Output Shape              Param #   \n",
      "=================================================================\n",
      "conv2d_5 (Conv2D)            (None, 148, 148, 32)      896       \n",
      "_________________________________________________________________\n",
      "max_pooling2d_5 (MaxPooling2 (None, 74, 74, 32)        0         \n",
      "_________________________________________________________________\n",
      "conv2d_6 (Conv2D)            (None, 72, 72, 64)        18496     \n",
      "_________________________________________________________________\n",
      "max_pooling2d_6 (MaxPooling2 (None, 36, 36, 64)        0         \n",
      "_________________________________________________________________\n",
      "conv2d_7 (Conv2D)            (None, 34, 34, 128)       73856     \n",
      "_________________________________________________________________\n",
      "max_pooling2d_7 (MaxPooling2 (None, 17, 17, 128)       0         \n",
      "_________________________________________________________________\n",
      "conv2d_8 (Conv2D)            (None, 15, 15, 128)       147584    \n",
      "_________________________________________________________________\n",
      "max_pooling2d_8 (MaxPooling2 (None, 7, 7, 128)         0         \n",
      "_________________________________________________________________\n",
      "flatten_2 (Flatten)          (None, 6272)              0         \n",
      "_________________________________________________________________\n",
      "dropout_1 (Dropout)          (None, 6272)              0         \n",
      "_________________________________________________________________\n",
      "dense_3 (Dense)              (None, 512)               3211776   \n",
      "_________________________________________________________________\n",
      "dense_4 (Dense)              (None, 84)                43092     \n",
      "=================================================================\n",
      "Total params: 3,495,700\n",
      "Trainable params: 3,495,700\n",
      "Non-trainable params: 0\n",
      "_________________________________________________________________\n"
     ]
    }
   ],
   "source": [
    "model = models.Sequential()\n",
    "\n",
    "model.add(layers.Conv2D(32, (3, 3), activation='relu', input_shape=(150, 150, 3)))\n",
    "model.add(layers.MaxPool2D(2, 2))\n",
    "model.add(layers.Conv2D(64, (3, 3), activation='relu'))\n",
    "model.add(layers.MaxPool2D(2, 2))\n",
    "model.add(layers.Conv2D(128, (3, 3), activation='relu'))\n",
    "model.add(layers.MaxPool2D(2, 2))\n",
    "model.add(layers.Conv2D(128, (3, 3), activation='relu'))\n",
    "model.add(layers.MaxPool2D(2, 2))\n",
    "\n",
    "model.add(layers.Flatten())\n",
    "model.add(layers.Dropout(0.5))\n",
    "model.add(layers.Dense(512, activation='relu'))\n",
    "model.add(layers.Dense(84, activation='softmax'))\n",
    "\n",
    "model.summary()"
   ]
  },
  {
   "cell_type": "code",
   "execution_count": 17,
   "metadata": {},
   "outputs": [],
   "source": [
    "# Compile the model\n",
    "model.compile(\n",
    "    optimizer=optimizers.RMSprop(lr=1e-4), \n",
    "    loss=losses.categorical_crossentropy, \n",
    "    metrics=[metrics.categorical_accuracy]\n",
    ")"
   ]
  },
  {
   "cell_type": "code",
   "execution_count": 18,
   "metadata": {},
   "outputs": [
    {
     "name": "stdout",
     "output_type": "stream",
     "text": [
      "Epoch 1/20\n",
      "4200/4200 [==============================] - 260s - loss: 1.5605 - categorical_accuracy: 0.6030 - val_loss: 0.9392 - val_categorical_accuracy: 0.7542\n",
      "Epoch 2/20\n",
      "4200/4200 [==============================] - 256s - loss: 0.8059 - categorical_accuracy: 0.7864 - val_loss: 0.6859 - val_categorical_accuracy: 0.8192\n",
      "Epoch 3/20\n",
      "4200/4200 [==============================] - 257s - loss: 0.6212 - categorical_accuracy: 0.8345 - val_loss: 0.5993 - val_categorical_accuracy: 0.8391\n",
      "Epoch 4/20\n",
      "4200/4200 [==============================] - 256s - loss: 0.5332 - categorical_accuracy: 0.8576 - val_loss: 0.5315 - val_categorical_accuracy: 0.8570\n",
      "Epoch 5/20\n",
      "4200/4200 [==============================] - 255s - loss: 0.4807 - categorical_accuracy: 0.8703 - val_loss: 0.5110 - val_categorical_accuracy: 0.8633\n",
      "Epoch 6/20\n",
      "4200/4200 [==============================] - 253s - loss: 0.4500 - categorical_accuracy: 0.8782 - val_loss: 0.4990 - val_categorical_accuracy: 0.8694\n",
      "Epoch 7/20\n",
      "4200/4200 [==============================] - 252s - loss: 0.4294 - categorical_accuracy: 0.8839 - val_loss: 0.5047 - val_categorical_accuracy: 0.8691\n",
      "Epoch 8/20\n",
      "4200/4200 [==============================] - 254s - loss: 0.4247 - categorical_accuracy: 0.8842 - val_loss: 0.4638 - val_categorical_accuracy: 0.8790\n",
      "Epoch 9/20\n",
      "4200/4200 [==============================] - 259s - loss: 0.4156 - categorical_accuracy: 0.8871 - val_loss: 0.4887 - val_categorical_accuracy: 0.8738\n",
      "Epoch 10/20\n",
      "4200/4200 [==============================] - 252s - loss: 0.4129 - categorical_accuracy: 0.8882 - val_loss: 0.4677 - val_categorical_accuracy: 0.8760\n",
      "Epoch 11/20\n",
      "4200/4200 [==============================] - 253s - loss: 0.4133 - categorical_accuracy: 0.8884 - val_loss: 0.4722 - val_categorical_accuracy: 0.8754\n",
      "Epoch 12/20\n",
      "4200/4200 [==============================] - 252s - loss: 0.4210 - categorical_accuracy: 0.8883 - val_loss: 0.5594 - val_categorical_accuracy: 0.8689\n",
      "Epoch 13/20\n",
      "4200/4200 [==============================] - 252s - loss: 0.4208 - categorical_accuracy: 0.8878 - val_loss: 0.4822 - val_categorical_accuracy: 0.8779\n",
      "Epoch 14/20\n",
      "4200/4200 [==============================] - 253s - loss: 0.4189 - categorical_accuracy: 0.8876 - val_loss: 0.4858 - val_categorical_accuracy: 0.8766\n",
      "Epoch 15/20\n",
      "4200/4200 [==============================] - 255s - loss: 0.4270 - categorical_accuracy: 0.8871 - val_loss: 0.4609 - val_categorical_accuracy: 0.8772\n",
      "Epoch 16/20\n",
      "4200/4200 [==============================] - 252s - loss: 0.4248 - categorical_accuracy: 0.8879 - val_loss: 0.4839 - val_categorical_accuracy: 0.8729\n",
      "Epoch 17/20\n",
      "4200/4200 [==============================] - 252s - loss: 0.4231 - categorical_accuracy: 0.8879 - val_loss: 0.5184 - val_categorical_accuracy: 0.8627\n",
      "Epoch 18/20\n",
      "4200/4200 [==============================] - 254s - loss: 0.4230 - categorical_accuracy: 0.8882 - val_loss: 0.4993 - val_categorical_accuracy: 0.8766\n",
      "Epoch 19/20\n",
      "4200/4200 [==============================] - 253s - loss: 0.4193 - categorical_accuracy: 0.8876 - val_loss: 0.5120 - val_categorical_accuracy: 0.8674\n",
      "Epoch 20/20\n",
      "4200/4200 [==============================] - 253s - loss: 0.4252 - categorical_accuracy: 0.8876 - val_loss: 0.5173 - val_categorical_accuracy: 0.8706\n"
     ]
    }
   ],
   "source": [
    "history = model.fit_generator(train_generator, \n",
    "                              steps_per_epoch=4200, \n",
    "                              epochs=20, \n",
    "                              validation_data=test_generator, \n",
    "                              validation_steps=900)"
   ]
  },
  {
   "cell_type": "code",
   "execution_count": 20,
   "metadata": {},
   "outputs": [
    {
     "data": {
      "image/png": "[encoded data removed]",
      "text/plain": [
       "<matplotlib.figure.Figure at 0x253f8956d68>"
      ]
     },
     "metadata": {},
     "output_type": "display_data"
    },
    {
     "data": {
      "image/png": "[encoded data removed]",
      "text/plain": [
       "<matplotlib.figure.Figure at 0x253f8992dd8>"
      ]
     },
     "metadata": {},
     "output_type": "display_data"
    }
   ],
   "source": [
    "import matplotlib.pyplot as plt\n",
    "\n",
    "acc = history.history['categorical_accuracy']\n",
    "val_acc = history.history['val_categorical_accuracy']\n",
    "loss = history.history['loss']\n",
    "val_loss = history.history['val_loss']\n",
    "\n",
    "epochs = range(1, len(acc)+1)\n",
    "\n",
    "plt.plot(epochs, acc, 'bo', label='Training acc')\n",
    "plt.plot(epochs, val_acc, 'b', label='Validation acc')\n",
    "plt.title('Training and validation accuracy')\n",
    "plt.legend()\n",
    "\n",
    "plt.figure()\n",
    "plt.plot(epochs, loss, 'bo', label='Training losses')\n",
    "plt.plot(epochs, val_loss, 'b', label='Validation losses')\n",
    "plt.title('Training and validation loss')\n",
    "plt.legend()\n",
    "\n",
    "plt.show()"
   ]
  },
  {
   "cell_type": "markdown",
   "metadata": {},
   "source": [
    "## Observation"
   ]
  },
  {
   "cell_type": "markdown",
   "metadata": {},
   "source": [
    "Looks like the the accuracy with one dropout has taken the accuracy close to 88% which is a 3% increase. Let's try to improve it with a little augmentation"
   ]
  },
  {
   "cell_type": "code",
   "execution_count": 21,
   "metadata": {},
   "outputs": [],
   "source": [
    "model.save('dropout_model.h5')"
   ]
  },
  {
   "cell_type": "markdown",
   "metadata": {},
   "source": [
    "# Applying image augmentation"
   ]
  },
  {
   "cell_type": "code",
   "execution_count": 22,
   "metadata": {},
   "outputs": [
    {
     "name": "stdout",
     "output_type": "stream",
     "text": [
      "Found 134400 images belonging to 84 classes.\n",
      "Found 31705 images belonging to 84 classes.\n"
     ]
    }
   ],
   "source": [
    "train_datagen = ImageDataGenerator(rescale=1./255, \n",
    "                                   rotation_range=15, \n",
    "                                   width_shift_range=0.05, \n",
    "                                   height_shift_range=0.05, \n",
    "                                   shear_range=0.05,\n",
    "                                   zoom_range=0.1, \n",
    "                                   horizontal_flip=False)\n",
    "\n",
    "test_datagen = ImageDataGenerator(rescale=1./255)\n",
    "\n",
    "train_generator = train_datagen.flow_from_directory(\n",
    "    train_dir, \n",
    "    target_size=(150, 150), \n",
    "    batch_size=32\n",
    ")\n",
    "\n",
    "test_generator = test_datagen.flow_from_directory(\n",
    "    test_dir, \n",
    "    target_size=(150, 150), \n",
    "    batch_size=32\n",
    ")"
   ]
  },
  {
   "cell_type": "code",
   "execution_count": 25,
   "metadata": {},
   "outputs": [
    {
     "name": "stdout",
     "output_type": "stream",
     "text": [
      "_________________________________________________________________\n",
      "Layer (type)                 Output Shape              Param #   \n",
      "=================================================================\n",
      "conv2d_9 (Conv2D)            (None, 148, 148, 32)      896       \n",
      "_________________________________________________________________\n",
      "max_pooling2d_9 (MaxPooling2 (None, 74, 74, 32)        0         \n",
      "_________________________________________________________________\n",
      "conv2d_10 (Conv2D)           (None, 72, 72, 64)        18496     \n",
      "_________________________________________________________________\n",
      "max_pooling2d_10 (MaxPooling (None, 36, 36, 64)        0         \n",
      "_________________________________________________________________\n",
      "conv2d_11 (Conv2D)           (None, 34, 34, 128)       73856     \n",
      "_________________________________________________________________\n",
      "max_pooling2d_11 (MaxPooling (None, 17, 17, 128)       0         \n",
      "_________________________________________________________________\n",
      "conv2d_12 (Conv2D)           (None, 15, 15, 128)       147584    \n",
      "_________________________________________________________________\n",
      "max_pooling2d_12 (MaxPooling (None, 7, 7, 128)         0         \n",
      "_________________________________________________________________\n",
      "flatten_3 (Flatten)          (None, 6272)              0         \n",
      "_________________________________________________________________\n",
      "dropout_2 (Dropout)          (None, 6272)              0         \n",
      "_________________________________________________________________\n",
      "dense_5 (Dense)              (None, 512)               3211776   \n",
      "_________________________________________________________________\n",
      "dense_6 (Dense)              (None, 84)                43092     \n",
      "=================================================================\n",
      "Total params: 3,495,700\n",
      "Trainable params: 3,495,700\n",
      "Non-trainable params: 0\n",
      "_________________________________________________________________\n"
     ]
    }
   ],
   "source": [
    "model = models.Sequential()\n",
    "\n",
    "model.add(layers.Conv2D(32, (3, 3), activation='relu', input_shape=(150, 150, 3)))\n",
    "model.add(layers.MaxPool2D(2, 2))\n",
    "model.add(layers.Conv2D(64, (3, 3), activation='relu'))\n",
    "model.add(layers.MaxPool2D(2, 2))\n",
    "model.add(layers.Conv2D(128, (3, 3), activation='relu'))\n",
    "model.add(layers.MaxPool2D(2, 2))\n",
    "model.add(layers.Conv2D(128, (3, 3), activation='relu'))\n",
    "model.add(layers.MaxPool2D(2, 2))\n",
    "\n",
    "model.add(layers.Flatten())\n",
    "model.add(layers.Dropout(0.5))\n",
    "model.add(layers.Dense(512, activation='relu'))\n",
    "model.add(layers.Dense(84, activation='softmax'))\n",
    "\n",
    "model.summary()"
   ]
  },
  {
   "cell_type": "code",
   "execution_count": 26,
   "metadata": {},
   "outputs": [],
   "source": [
    "model.compile(\n",
    "    optimizer=optimizers.RMSprop(lr=1e-4), \n",
    "    loss=losses.categorical_crossentropy, \n",
    "    metrics=[metrics.categorical_accuracy]\n",
    ")"
   ]
  },
  {
   "cell_type": "code",
   "execution_count": 27,
   "metadata": {},
   "outputs": [
    {
     "name": "stdout",
     "output_type": "stream",
     "text": [
      "Epoch 1/30\n",
      "4200/4200 [==============================] - 492s - loss: 1.8319 - categorical_accuracy: 0.5334 - val_loss: 0.9632 - val_categorical_accuracy: 0.7462\n",
      "Epoch 2/30\n",
      "4200/4200 [==============================] - 483s - loss: 1.0078 - categorical_accuracy: 0.7320 - val_loss: 0.6518 - val_categorical_accuracy: 0.8254\n",
      "Epoch 3/30\n",
      "4200/4200 [==============================] - 483s - loss: 0.8026 - categorical_accuracy: 0.7860 - val_loss: 0.5714 - val_categorical_accuracy: 0.8483\n",
      "Epoch 4/30\n",
      "4200/4200 [==============================] - 486s - loss: 0.7050 - categorical_accuracy: 0.8115 - val_loss: 0.5047 - val_categorical_accuracy: 0.8659\n",
      "Epoch 5/30\n",
      "4200/4200 [==============================] - 474s - loss: 0.6513 - categorical_accuracy: 0.8253 - val_loss: 0.4743 - val_categorical_accuracy: 0.8739\n",
      "Epoch 6/30\n",
      "4200/4200 [==============================] - 476s - loss: 0.6209 - categorical_accuracy: 0.8327 - val_loss: 0.4447 - val_categorical_accuracy: 0.8826\n",
      "Epoch 7/30\n",
      "4200/4200 [==============================] - 559s - loss: 0.5965 - categorical_accuracy: 0.8386 - val_loss: 0.4245 - val_categorical_accuracy: 0.8863\n",
      "Epoch 8/30\n",
      "4200/4200 [==============================] - 548s - loss: 0.5888 - categorical_accuracy: 0.8410 - val_loss: 0.4308 - val_categorical_accuracy: 0.8865\n",
      "Epoch 9/30\n",
      "4200/4200 [==============================] - 515s - loss: 0.5761 - categorical_accuracy: 0.8449 - val_loss: 0.4222 - val_categorical_accuracy: 0.8875\n",
      "Epoch 10/30\n",
      "4200/4200 [==============================] - 497s - loss: 0.5747 - categorical_accuracy: 0.8465 - val_loss: 0.4240 - val_categorical_accuracy: 0.8871\n",
      "Epoch 11/30\n",
      "4200/4200 [==============================] - 528s - loss: 0.5741 - categorical_accuracy: 0.8457 - val_loss: 0.4237 - val_categorical_accuracy: 0.8895\n",
      "Epoch 12/30\n",
      "4200/4200 [==============================] - 529s - loss: 0.5727 - categorical_accuracy: 0.8476 - val_loss: 0.4095 - val_categorical_accuracy: 0.8897\n",
      "Epoch 13/30\n",
      "4200/4200 [==============================] - 526s - loss: 0.5706 - categorical_accuracy: 0.8468 - val_loss: 0.4241 - val_categorical_accuracy: 0.8882\n",
      "Epoch 14/30\n",
      "4200/4200 [==============================] - 551s - loss: 0.5706 - categorical_accuracy: 0.8480 - val_loss: 0.4369 - val_categorical_accuracy: 0.8879\n",
      "Epoch 15/30\n",
      "4200/4200 [==============================] - 505s - loss: 0.5744 - categorical_accuracy: 0.8482 - val_loss: 0.4015 - val_categorical_accuracy: 0.8930\n",
      "Epoch 16/30\n",
      "4200/4200 [==============================] - 487s - loss: 0.5806 - categorical_accuracy: 0.8462 - val_loss: 0.4377 - val_categorical_accuracy: 0.8855\n",
      "Epoch 17/30\n",
      "4200/4200 [==============================] - 494s - loss: 0.5827 - categorical_accuracy: 0.8460 - val_loss: 0.4373 - val_categorical_accuracy: 0.8843\n",
      "Epoch 18/30\n",
      "4200/4200 [==============================] - 487s - loss: 0.5781 - categorical_accuracy: 0.8459 - val_loss: 0.4787 - val_categorical_accuracy: 0.8833\n",
      "Epoch 19/30\n",
      "4200/4200 [==============================] - 484s - loss: 0.5791 - categorical_accuracy: 0.8467 - val_loss: 0.4561 - val_categorical_accuracy: 0.8813\n",
      "Epoch 20/30\n",
      "4200/4200 [==============================] - 522s - loss: 0.5810 - categorical_accuracy: 0.8457 - val_loss: 0.4152 - val_categorical_accuracy: 0.8891\n",
      "Epoch 21/30\n",
      "4200/4200 [==============================] - 511s - loss: 0.5780 - categorical_accuracy: 0.8466 - val_loss: 0.4303 - val_categorical_accuracy: 0.8858\n",
      "Epoch 22/30\n",
      "4200/4200 [==============================] - 480s - loss: 0.5827 - categorical_accuracy: 0.8478 - val_loss: 0.4078 - val_categorical_accuracy: 0.8920\n",
      "Epoch 23/30\n",
      "4200/4200 [==============================] - 489s - loss: 0.5804 - categorical_accuracy: 0.8470 - val_loss: 0.4225 - val_categorical_accuracy: 0.8907\n",
      "Epoch 24/30\n",
      "4200/4200 [==============================] - 504s - loss: 0.5776 - categorical_accuracy: 0.8477 - val_loss: 0.4182 - val_categorical_accuracy: 0.8909\n",
      "Epoch 25/30\n",
      "4200/4200 [==============================] - 560s - loss: 0.5785 - categorical_accuracy: 0.8468 - val_loss: 0.4237 - val_categorical_accuracy: 0.8902\n",
      "Epoch 26/30\n",
      "4200/4200 [==============================] - 577s - loss: 0.5761 - categorical_accuracy: 0.8473 - val_loss: 0.4336 - val_categorical_accuracy: 0.8880\n",
      "Epoch 27/30\n",
      "4200/4200 [==============================] - 564s - loss: 0.5840 - categorical_accuracy: 0.8450 - val_loss: 0.4445 - val_categorical_accuracy: 0.8840\n",
      "Epoch 28/30\n",
      "4200/4200 [==============================] - 559s - loss: 0.5786 - categorical_accuracy: 0.8470 - val_loss: 0.4501 - val_categorical_accuracy: 0.8841\n",
      "Epoch 29/30\n",
      "4200/4200 [==============================] - 571s - loss: 0.5782 - categorical_accuracy: 0.8483 - val_loss: 0.4314 - val_categorical_accuracy: 0.8861\n",
      "Epoch 30/30\n",
      "4200/4200 [==============================] - 564s - loss: 0.5811 - categorical_accuracy: 0.8464 - val_loss: 0.4170 - val_categorical_accuracy: 0.8909\n"
     ]
    }
   ],
   "source": [
    "history = model.fit_generator(train_generator, \n",
    "                              steps_per_epoch=4200, \n",
    "                              epochs=30, \n",
    "                              validation_data=test_generator, \n",
    "                              validation_steps=900)"
   ]
  },
  {
   "cell_type": "code",
   "execution_count": 28,
   "metadata": {},
   "outputs": [
    {
     "data": {
      "image/png": "[encoded data removed]",
      "text/plain": [
       "<matplotlib.figure.Figure at 0x253f6102518>"
      ]
     },
     "metadata": {},
     "output_type": "display_data"
    },
    {
     "data": {
      "image/png": "[encoded data removed]",
      "text/plain": [
       "<matplotlib.figure.Figure at 0x253f610c0b8>"
      ]
     },
     "metadata": {},
     "output_type": "display_data"
    }
   ],
   "source": [
    "import matplotlib.pyplot as plt\n",
    "\n",
    "acc = history.history['categorical_accuracy']\n",
    "val_acc = history.history['val_categorical_accuracy']\n",
    "loss = history.history['loss']\n",
    "val_loss = history.history['val_loss']\n",
    "\n",
    "epochs = range(1, len(acc)+1)\n",
    "\n",
    "plt.plot(epochs, acc, 'bo', label='Training acc')\n",
    "plt.plot(epochs, val_acc, 'b', label='Validation acc')\n",
    "plt.title('Training and validation accuracy')\n",
    "plt.legend()\n",
    "\n",
    "plt.figure()\n",
    "plt.plot(epochs, loss, 'bo', label='Training losses')\n",
    "plt.plot(epochs, val_loss, 'b', label='Validation losses')\n",
    "plt.title('Training and validation loss')\n",
    "plt.legend()\n",
    "\n",
    "plt.show()"
   ]
  },
  {
   "cell_type": "code",
   "execution_count": 29,
   "metadata": {},
   "outputs": [],
   "source": [
    "model.save('image_augmentation_model.h5')"
   ]
  },
  {
   "cell_type": "markdown",
   "metadata": {},
   "source": [
    "### Observtion"
   ]
  },
  {
   "cell_type": "markdown",
   "metadata": {},
   "source": [
    "Image augmentation gives 1% increase in valdiation accuray giving 89% accuracy. but it has some ridiculous validation_acc > train_acc\n",
    "So, image augmentation is not a good choice. Let's try using pretrained model with no image augmentation. if that doesn't work well then deep cnn with drop out having around 88% accuracy was the best option so far"
   ]
  },
  {
   "cell_type": "markdown",
   "metadata": {},
   "source": [
    "# Try using pretrained model (VGG16 on imagenet)\n",
    "using imagenet dataset is not an ideal case. But give it a shot and see how the low level feature deection help"
   ]
  },
  {
   "cell_type": "code",
   "execution_count": 31,
   "metadata": {},
   "outputs": [],
   "source": [
    "from keras.applications import VGG16\n",
    "\n",
    "conv_base = VGG16(weights='imagenet',\n",
    "                 include_top=False,\n",
    "                 input_shape=(150, 150, 3))"
   ]
  },
  {
   "cell_type": "code",
   "execution_count": 32,
   "metadata": {},
   "outputs": [
    {
     "name": "stdout",
     "output_type": "stream",
     "text": [
      "_________________________________________________________________\n",
      "Layer (type)                 Output Shape              Param #   \n",
      "=================================================================\n",
      "input_2 (InputLayer)         (None, 150, 150, 3)       0         \n",
      "_________________________________________________________________\n",
      "block1_conv1 (Conv2D)        (None, 150, 150, 64)      1792      \n",
      "_________________________________________________________________\n",
      "block1_conv2 (Conv2D)        (None, 150, 150, 64)      36928     \n",
      "_________________________________________________________________\n",
      "block1_pool (MaxPooling2D)   (None, 75, 75, 64)        0         \n",
      "_________________________________________________________________\n",
      "block2_conv1 (Conv2D)        (None, 75, 75, 128)       73856     \n",
      "_________________________________________________________________\n",
      "block2_conv2 (Conv2D)        (None, 75, 75, 128)       147584    \n",
      "_________________________________________________________________\n",
      "block2_pool (MaxPooling2D)   (None, 37, 37, 128)       0         \n",
      "_________________________________________________________________\n",
      "block3_conv1 (Conv2D)        (None, 37, 37, 256)       295168    \n",
      "_________________________________________________________________\n",
      "block3_conv2 (Conv2D)        (None, 37, 37, 256)       590080    \n",
      "_________________________________________________________________\n",
      "block3_conv3 (Conv2D)        (None, 37, 37, 256)       590080    \n",
      "_________________________________________________________________\n",
      "block3_pool (MaxPooling2D)   (None, 18, 18, 256)       0         \n",
      "_________________________________________________________________\n",
      "block4_conv1 (Conv2D)        (None, 18, 18, 512)       1180160   \n",
      "_________________________________________________________________\n",
      "block4_conv2 (Conv2D)        (None, 18, 18, 512)       2359808   \n",
      "_________________________________________________________________\n",
      "block4_conv3 (Conv2D)        (None, 18, 18, 512)       2359808   \n",
      "_________________________________________________________________\n",
      "block4_pool (MaxPooling2D)   (None, 9, 9, 512)         0         \n",
      "_________________________________________________________________\n",
      "block5_conv1 (Conv2D)        (None, 9, 9, 512)         2359808   \n",
      "_________________________________________________________________\n",
      "block5_conv2 (Conv2D)        (None, 9, 9, 512)         2359808   \n",
      "_________________________________________________________________\n",
      "block5_conv3 (Conv2D)        (None, 9, 9, 512)         2359808   \n",
      "_________________________________________________________________\n",
      "block5_pool (MaxPooling2D)   (None, 4, 4, 512)         0         \n",
      "=================================================================\n",
      "Total params: 14,714,688\n",
      "Trainable params: 14,714,688\n",
      "Non-trainable params: 0\n",
      "_________________________________________________________________\n"
     ]
    }
   ],
   "source": [
    "conv_base.summary()"
   ]
  },
  {
   "cell_type": "code",
   "execution_count": 33,
   "metadata": {},
   "outputs": [
    {
     "name": "stdout",
     "output_type": "stream",
     "text": [
      "Found 134400 images belonging to 84 classes.\n",
      "Found 31705 images belonging to 84 classes.\n"
     ]
    }
   ],
   "source": [
    "train_datagen = ImageDataGenerator(rescale=1./255)\n",
    "test_datagen = ImageDataGenerator(rescale=1./255)\n",
    "\n",
    "train_generator = train_datagen.flow_from_directory(\n",
    "    train_dir, \n",
    "    target_size=(150, 150), \n",
    "    batch_size=32\n",
    ")\n",
    "\n",
    "test_generator = test_datagen.flow_from_directory(\n",
    "    test_dir, \n",
    "    target_size=(150, 150), \n",
    "    batch_size=32\n",
    ")"
   ]
  },
  {
   "cell_type": "code",
   "execution_count": 34,
   "metadata": {},
   "outputs": [
    {
     "name": "stdout",
     "output_type": "stream",
     "text": [
      "_________________________________________________________________\n",
      "Layer (type)                 Output Shape              Param #   \n",
      "=================================================================\n",
      "vgg16 (Model)                (None, 4, 4, 512)         14714688  \n",
      "_________________________________________________________________\n",
      "flatten_4 (Flatten)          (None, 8192)              0         \n",
      "_________________________________________________________________\n",
      "dense_7 (Dense)              (None, 512)               4194816   \n",
      "_________________________________________________________________\n",
      "dense_8 (Dense)              (None, 84)                43092     \n",
      "=================================================================\n",
      "Total params: 18,952,596\n",
      "Trainable params: 18,952,596\n",
      "Non-trainable params: 0\n",
      "_________________________________________________________________\n"
     ]
    }
   ],
   "source": [
    "model = models.Sequential()\n",
    "\n",
    "model.add(conv_base)\n",
    "model.add(layers.Flatten())\n",
    "model.add(layers.Dense(512, activation='relu'))\n",
    "model.add(layers.Dense(84, activation='softmax'))\n",
    "model.summary()"
   ]
  },
  {
   "cell_type": "code",
   "execution_count": 35,
   "metadata": {},
   "outputs": [
    {
     "name": "stdout",
     "output_type": "stream",
     "text": [
      "This is the number of trainable weights before freezing the conv base: 4\n"
     ]
    }
   ],
   "source": [
    "conv_base.trainable = False\n",
    "print('This is the number of trainable weights before freezing the conv base:', len(model.trainable_weights))"
   ]
  },
  {
   "cell_type": "code",
   "execution_count": 36,
   "metadata": {},
   "outputs": [],
   "source": [
    "model.compile(\n",
    "    optimizer=optimizers.RMSprop(lr=1e-4), \n",
    "    loss=losses.categorical_crossentropy, \n",
    "    metrics=[metrics.categorical_accuracy]\n",
    ")"
   ]
  },
  {
   "cell_type": "code",
   "execution_count": null,
   "metadata": {},
   "outputs": [],
   "source": [
    "history = model.fit_generator(train_generator, \n",
    "                              steps_per_epoch=4200, \n",
    "                              epochs=10, \n",
    "                              validation_data=test_generator, \n",
    "                              validation_steps=900)"
   ]
  },
  {
   "cell_type": "code",
   "execution_count": 39,
   "metadata": {},
   "outputs": [],
   "source": [
    "model.save('dense_layer_on_pretrained_vgg16.h5')"
   ]
  },
  {
   "cell_type": "markdown",
   "metadata": {},
   "source": [
    "# Fine-tuning\n",
    "As the pretrained model improves the accuracy. let's try fine tuning it for the last blocks"
   ]
  },
  {
   "cell_type": "code",
   "execution_count": 41,
   "metadata": {},
   "outputs": [],
   "source": [
    "conv_base.trainable = True\n",
    "set_trainable = False\n",
    "for layer in conv_base.layers:\n",
    "    if layer.name == 'block5_conv1':\n",
    "        set_trainable = True\n",
    "    if set_trainable:\n",
    "        layer.trainable = True\n",
    "    else:\n",
    "        layer.trainable = False"
   ]
  },
  {
   "cell_type": "code",
   "execution_count": 44,
   "metadata": {},
   "outputs": [
    {
     "name": "stdout",
     "output_type": "stream",
     "text": [
      "Epoch 1/10\n",
      "4200/4200 [==============================] - 901s - loss: 0.2750 - categorical_accuracy: 0.9318 - val_loss: 0.4320 - val_categorical_accuracy: 0.8989\n",
      "Epoch 2/10\n",
      "4200/4200 [==============================] - 897s - loss: 0.2750 - categorical_accuracy: 0.9329 - val_loss: 0.3992 - val_categorical_accuracy: 0.9215\n",
      "Epoch 3/10\n",
      "4200/4200 [==============================] - 902s - loss: 0.2766 - categorical_accuracy: 0.9327 - val_loss: 0.3505 - val_categorical_accuracy: 0.9142\n",
      "Epoch 4/10\n",
      "4200/4200 [==============================] - 905s - loss: 0.2770 - categorical_accuracy: 0.9337 - val_loss: 0.3742 - val_categorical_accuracy: 0.9220\n",
      "Epoch 5/10\n",
      "4200/4200 [==============================] - 896s - loss: 0.2863 - categorical_accuracy: 0.9334 - val_loss: 0.4153 - val_categorical_accuracy: 0.9246\n",
      "Epoch 6/10\n",
      "4200/4200 [==============================] - 893s - loss: 0.2864 - categorical_accuracy: 0.9331 - val_loss: 0.4845 - val_categorical_accuracy: 0.9094\n",
      "Epoch 7/10\n",
      "4200/4200 [==============================] - 893s - loss: 0.2919 - categorical_accuracy: 0.9322 - val_loss: 0.4931 - val_categorical_accuracy: 0.9173\n",
      "Epoch 8/10\n",
      "4200/4200 [==============================] - 890s - loss: 0.2975 - categorical_accuracy: 0.9322 - val_loss: 0.4961 - val_categorical_accuracy: 0.8968\n",
      "Epoch 9/10\n",
      "4200/4200 [==============================] - 894s - loss: 0.2982 - categorical_accuracy: 0.9330 - val_loss: 0.4549 - val_categorical_accuracy: 0.9154\n",
      "Epoch 10/10\n",
      "4200/4200 [==============================] - 897s - loss: 0.3001 - categorical_accuracy: 0.9326 - val_loss: 0.5188 - val_categorical_accuracy: 0.9036\n"
     ]
    }
   ],
   "source": [
    "model.compile(\n",
    "    optimizer=optimizers.RMSprop(lr=1e-4), \n",
    "    loss=losses.categorical_crossentropy, \n",
    "    metrics=[metrics.categorical_accuracy]\n",
    ")\n",
    "\n",
    "history = model.fit_generator(train_generator, \n",
    "                              steps_per_epoch=4200, \n",
    "                              epochs=10, \n",
    "                              validation_data=test_generator, \n",
    "                              validation_steps=900)"
   ]
  },
  {
   "cell_type": "code",
   "execution_count": 45,
   "metadata": {},
   "outputs": [
    {
     "data": {
      "image/png": "[encoded data removed]",
      "text/plain": [
       "<matplotlib.figure.Figure at 0x2541f575d68>"
      ]
     },
     "metadata": {},
     "output_type": "display_data"
    },
    {
     "data": {
      "image/png": "[encoded data removed]",
      "text/plain": [
       "<matplotlib.figure.Figure at 0x2542825abe0>"
      ]
     },
     "metadata": {},
     "output_type": "display_data"
    }
   ],
   "source": [
    "import matplotlib.pyplot as plt\n",
    "\n",
    "acc = history.history['categorical_accuracy']\n",
    "val_acc = history.history['val_categorical_accuracy']\n",
    "loss = history.history['loss']\n",
    "val_loss = history.history['val_loss']\n",
    "\n",
    "epochs = range(1, len(acc)+1)\n",
    "\n",
    "plt.plot(epochs, acc, 'bo', label='Training acc')\n",
    "plt.plot(epochs, val_acc, 'b', label='Validation acc')\n",
    "plt.title('Training and validation accuracy')\n",
    "plt.legend()\n",
    "\n",
    "plt.figure()\n",
    "plt.plot(epochs, loss, 'bo', label='Training losses')\n",
    "plt.plot(epochs, val_loss, 'b', label='Validation losses')\n",
    "plt.title('Training and validation loss')\n",
    "plt.legend()\n",
    "\n",
    "plt.show()"
   ]
  },
  {
   "cell_type": "code",
   "execution_count": 46,
   "metadata": {},
   "outputs": [],
   "source": [
    "model.save('finetuning_on_pretrained_vgg16.h5')"
   ]
  },
  {
   "cell_type": "markdown",
   "metadata": {},
   "source": [
    "# Conclusion"
   ]
  },
  {
   "cell_type": "markdown",
   "metadata": {},
   "source": [
    "With the pretrained vgg26 model validation accuracy upto 92% is achieved"
   ]
  },
  {
   "cell_type": "code",
   "execution_count": null,
   "metadata": {},
   "outputs": [],
   "source": []
  }
 ],
 "metadata": {
  "kernelspec": {
   "display_name": "Python [default]",
   "language": "python",
   "name": "python3"
  },
  "language_info": {
   "codemirror_mode": {
    "name": "ipython",
    "version": 3
   },
   "file_extension": ".py",
   "mimetype": "text/x-python",
   "name": "python",
   "nbconvert_exporter": "python",
   "pygments_lexer": "ipython3",
   "version": "3.5.4"
  }
 },
 "nbformat": 4,
 "nbformat_minor": 2
}
