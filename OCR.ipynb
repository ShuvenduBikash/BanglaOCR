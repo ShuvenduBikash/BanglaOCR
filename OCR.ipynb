{
 "cells": [
  {
   "cell_type": "code",
   "execution_count": 1,
   "metadata": {
    "collapsed": true
   },
   "outputs": [],
   "source": [
    "import os, shutil\n",
    "original_data_dir = '/home/shuvendu/Documents/datasets/BanglaLekha-Isolated/Images'\n",
    "train_dir = '/home/shuvendu/Documents/datasets/BanglaLekha-Isolated/train'\n",
    "test_dir = '/home/shuvendu/Documents/datasets/BanglaLekha-Isolated/test'"
   ]
  },
  {
   "cell_type": "code",
   "execution_count": 2,
   "metadata": {
    "collapsed": true
   },
   "outputs": [],
   "source": [
    "os.mkdir(test_dir)\n",
    "os.mkdir(train_dir)"
   ]
  },
  {
   "cell_type": "code",
   "execution_count": 15,
   "metadata": {},
   "outputs": [],
   "source": [
    "from os import listdir\n",
    "from os.path import isfile, join\n",
    "\n",
    "for i in range(1, 85):\n",
    "    src_path = os.path.join(original_data_dir, str(i))\n",
    "    train_path = os.path.join(train_dir, str(i))\n",
    "    test_path = os.path.join(test_dir, str(i))\n",
    "    os.mkdir(train_path)\n",
    "    os.mkdir(test_path)\n",
    "    \n",
    "    onlyfiles = [f for f in listdir(src_path) if isfile(join(src_path, f))]\n",
    "    for j in range(1600):\n",
    "        src = os.path.join(src_path, onlyfiles[j])\n",
    "        dst = os.path.join(train_path, onlyfiles[j])\n",
    "        shutil.copyfile(src, dst)\n",
    "    \n",
    "    for j in range(1600, len(onlyfiles)):\n",
    "        src = os.path.join(src_path, onlyfiles[j])\n",
    "        dst = os.path.join(test_path, onlyfiles[j])\n",
    "        shutil.copyfile(src, dst)\n"
   ]
  },
  {
   "cell_type": "code",
   "execution_count": null,
   "metadata": {
    "collapsed": true
   },
   "outputs": [],
   "source": []
  }
 ],
 "metadata": {
  "kernelspec": {
   "display_name": "Python 3",
   "language": "python",
   "name": "python3"
  },
  "language_info": {
   "codemirror_mode": {
    "name": "ipython",
    "version": 3
   },
   "file_extension": ".py",
   "mimetype": "text/x-python",
   "name": "python",
   "nbconvert_exporter": "python",
   "pygments_lexer": "ipython3",
   "version": "3.6.1"
  }
 },
 "nbformat": 4,
 "nbformat_minor": 2
}
